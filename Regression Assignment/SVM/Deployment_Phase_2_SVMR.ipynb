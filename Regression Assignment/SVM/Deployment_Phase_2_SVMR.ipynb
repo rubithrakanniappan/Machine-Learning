{
 "cells": [
  {
   "cell_type": "code",
   "execution_count": 1,
   "metadata": {},
   "outputs": [],
   "source": [
    "#import pickle\n",
    "import pickle"
   ]
  },
  {
   "cell_type": "code",
   "execution_count": 2,
   "metadata": {},
   "outputs": [
    {
     "data": {
      "text/plain": [
       "array([16937.80747311])"
      ]
     },
     "execution_count": 2,
     "metadata": {},
     "output_type": "execute_result"
    }
   ],
   "source": [
    "#Load the saved model to check whether it is working as expected before go for phase 2(Deployment)\n",
    "#'rb' - indicates that the file is opened for read in binary mode\n",
    "loaded_model=pickle.load(open(\"Finalized_model_SVM.sav\",'rb'))\n",
    "#Pass the year of experience in the predict function\n",
    "#save the model and predict the value through loaded model\n",
    "#We have to pass 5 inputs in the predict function\n",
    "result=loaded_model.predict([[67565,45679,76589,0,1]])\n",
    "#View the profit details in the result variable\n",
    "result"
   ]
  },
  {
   "cell_type": "code",
   "execution_count": null,
   "metadata": {},
   "outputs": [],
   "source": []
  }
 ],
 "metadata": {
  "kernelspec": {
   "display_name": "Python 3",
   "language": "python",
   "name": "python3"
  },
  "language_info": {
   "codemirror_mode": {
    "name": "ipython",
    "version": 3
   },
   "file_extension": ".py",
   "mimetype": "text/x-python",
   "name": "python",
   "nbconvert_exporter": "python",
   "pygments_lexer": "ipython3",
   "version": "3.7.4"
  }
 },
 "nbformat": 4,
 "nbformat_minor": 2
}
