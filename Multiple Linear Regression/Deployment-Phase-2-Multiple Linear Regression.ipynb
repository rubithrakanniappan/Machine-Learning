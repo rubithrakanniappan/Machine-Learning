{
 "cells": [
  {
   "cell_type": "code",
   "execution_count": 1,
   "metadata": {},
   "outputs": [],
   "source": [
    "#import pickle\n",
    "import pickle"
   ]
  },
  {
   "cell_type": "code",
   "execution_count": 3,
   "metadata": {},
   "outputs": [
    {
     "data": {
      "text/plain": [
       "array([[47743.50168478]])"
      ]
     },
     "execution_count": 3,
     "metadata": {},
     "output_type": "execute_result"
    }
   ],
   "source": [
    "#Load the saved model to check whether it is working as expected before go for phase 2(Deployment)\n",
    "#'rb' - indicates that the file is opened for read in binary mode\n",
    "loaded_model=pickle.load(open(\"Finalized_model_multiple_linear.sav\",'rb'))\n",
    "#Pass the year of experience in the predict function\n",
    "#save the model and predict the value through loaded model\n",
    "#We have to pass 5 inputs in the predict function\n",
    "result=loaded_model.predict([[5647,9985,8623,0,1]])\n",
    "#View the salary details in the result variable\n",
    "result"
   ]
  },
  {
   "cell_type": "code",
   "execution_count": null,
   "metadata": {},
   "outputs": [],
   "source": []
  }
 ],
 "metadata": {
  "kernelspec": {
   "display_name": "Python 3",
   "language": "python",
   "name": "python3"
  },
  "language_info": {
   "codemirror_mode": {
    "name": "ipython",
    "version": 3
   },
   "file_extension": ".py",
   "mimetype": "text/x-python",
   "name": "python",
   "nbconvert_exporter": "python",
   "pygments_lexer": "ipython3",
   "version": "3.7.4"
  }
 },
 "nbformat": 4,
 "nbformat_minor": 2
}
